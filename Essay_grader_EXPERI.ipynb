{
 "cells": [
  {
   "cell_type": "markdown",
   "metadata": {},
   "source": [
    "# Importing required libraries"
   ]
  },
  {
   "cell_type": "code",
   "execution_count": 68,
   "metadata": {},
   "outputs": [
    {
     "name": "stdout",
     "output_type": "stream",
     "text": [
      "Requirement already satisfied: scikit-learn in /Users/mohit/opt/miniconda3/lib/python3.9/site-packages (1.3.0)\n",
      "Requirement already satisfied: threadpoolctl>=2.0.0 in /Users/mohit/opt/miniconda3/lib/python3.9/site-packages (from scikit-learn) (3.1.0)\n",
      "Requirement already satisfied: numpy>=1.17.3 in /Users/mohit/opt/miniconda3/lib/python3.9/site-packages (from scikit-learn) (1.23.3)\n",
      "Requirement already satisfied: scipy>=1.5.0 in /Users/mohit/opt/miniconda3/lib/python3.9/site-packages (from scikit-learn) (1.9.3)\n",
      "Requirement already satisfied: joblib>=1.1.1 in /Users/mohit/opt/miniconda3/lib/python3.9/site-packages (from scikit-learn) (1.2.0)\n"
     ]
    }
   ],
   "source": [
    "import numpy as np\n",
    "import pandas as pd\n",
    "from sklearn.model_selection import train_test_split\n",
    "from sklearn.metrics import mean_squared_error\n",
    "from sklearn.metrics import cohen_kappa_score\n",
    "import nltk\n",
    "import re\n",
    "from nltk.corpus import stopwords\n",
    "from nltk.tokenize import sent_tokenize,word_tokenize\n",
    "from keras.layers import Embedding, LSTM, Dense, Dropout, Lambda, Flatten\n",
    "from keras.models import Sequential, load_model, model_from_config\n",
    "import keras.backend as K\n",
    "from gensim.models import Word2Vec\n",
    "from sklearn.feature_extraction.text import CountVectorizer\n",
    "from sklearn.ensemble import GradientBoostingRegressor\n",
    "\n",
    "!pip install --upgrade scikit-learn\n"
   ]
  },
  {
   "cell_type": "markdown",
   "metadata": {
    "id": "5rnmhSf9tvIb"
   },
   "source": [
    "# Gettting the Processed CSV to pandas dataframe"
   ]
  },
  {
   "cell_type": "code",
   "execution_count": 69,
   "metadata": {
    "colab": {
     "base_uri": "https://localhost:8080/",
     "height": 562
    },
    "id": "Bns5P992uEZK",
    "outputId": "6d4b87bd-98f4-46bd-d83b-f30241b2b1fd"
   },
   "outputs": [
    {
     "data": {
      "text/html": [
       "<div>\n",
       "<style scoped>\n",
       "    .dataframe tbody tr th:only-of-type {\n",
       "        vertical-align: middle;\n",
       "    }\n",
       "\n",
       "    .dataframe tbody tr th {\n",
       "        vertical-align: top;\n",
       "    }\n",
       "\n",
       "    .dataframe thead th {\n",
       "        text-align: right;\n",
       "    }\n",
       "</style>\n",
       "<table border=\"1\" class=\"dataframe\">\n",
       "  <thead>\n",
       "    <tr style=\"text-align: right;\">\n",
       "      <th></th>\n",
       "      <th>essay_id</th>\n",
       "      <th>essay_set</th>\n",
       "      <th>essay</th>\n",
       "      <th>final_score</th>\n",
       "      <th>clean_essay</th>\n",
       "      <th>char_count</th>\n",
       "      <th>word_count</th>\n",
       "      <th>sent_count</th>\n",
       "      <th>avg_word_len</th>\n",
       "      <th>spell_err_count</th>\n",
       "      <th>noun_count</th>\n",
       "      <th>adj_count</th>\n",
       "      <th>verb_count</th>\n",
       "      <th>adv_count</th>\n",
       "    </tr>\n",
       "  </thead>\n",
       "  <tbody>\n",
       "    <tr>\n",
       "      <th>0</th>\n",
       "      <td>1</td>\n",
       "      <td>1</td>\n",
       "      <td>Dear local newspaper, I think effects computer...</td>\n",
       "      <td>6</td>\n",
       "      <td>Dear local newspaper  I think effects computer...</td>\n",
       "      <td>1441</td>\n",
       "      <td>344</td>\n",
       "      <td>16</td>\n",
       "      <td>4.188953</td>\n",
       "      <td>11</td>\n",
       "      <td>76</td>\n",
       "      <td>75</td>\n",
       "      <td>18</td>\n",
       "      <td>24</td>\n",
       "    </tr>\n",
       "    <tr>\n",
       "      <th>1</th>\n",
       "      <td>2</td>\n",
       "      <td>1</td>\n",
       "      <td>Dear I believe that using computers will benef...</td>\n",
       "      <td>7</td>\n",
       "      <td>Dear I believe using computers benefit us many...</td>\n",
       "      <td>1765</td>\n",
       "      <td>413</td>\n",
       "      <td>17</td>\n",
       "      <td>4.273608</td>\n",
       "      <td>21</td>\n",
       "      <td>98</td>\n",
       "      <td>84</td>\n",
       "      <td>20</td>\n",
       "      <td>19</td>\n",
       "    </tr>\n",
       "    <tr>\n",
       "      <th>2</th>\n",
       "      <td>3</td>\n",
       "      <td>1</td>\n",
       "      <td>Dear, More and more people use computers, but ...</td>\n",
       "      <td>5</td>\n",
       "      <td>Dear  More people use computers  everyone agre...</td>\n",
       "      <td>1185</td>\n",
       "      <td>276</td>\n",
       "      <td>14</td>\n",
       "      <td>4.293478</td>\n",
       "      <td>5</td>\n",
       "      <td>76</td>\n",
       "      <td>51</td>\n",
       "      <td>20</td>\n",
       "      <td>16</td>\n",
       "    </tr>\n",
       "    <tr>\n",
       "      <th>3</th>\n",
       "      <td>4</td>\n",
       "      <td>1</td>\n",
       "      <td>Dear Local Newspaper, I have found that many e...</td>\n",
       "      <td>8</td>\n",
       "      <td>Dear Local Newspaper  I found many experts say...</td>\n",
       "      <td>2284</td>\n",
       "      <td>490</td>\n",
       "      <td>26</td>\n",
       "      <td>4.661224</td>\n",
       "      <td>31</td>\n",
       "      <td>142</td>\n",
       "      <td>96</td>\n",
       "      <td>39</td>\n",
       "      <td>29</td>\n",
       "    </tr>\n",
       "    <tr>\n",
       "      <th>4</th>\n",
       "      <td>5</td>\n",
       "      <td>1</td>\n",
       "      <td>Dear I know having computers has a positive ef...</td>\n",
       "      <td>6</td>\n",
       "      <td>Dear I know computers positive effect people  ...</td>\n",
       "      <td>2023</td>\n",
       "      <td>469</td>\n",
       "      <td>30</td>\n",
       "      <td>4.313433</td>\n",
       "      <td>18</td>\n",
       "      <td>110</td>\n",
       "      <td>90</td>\n",
       "      <td>32</td>\n",
       "      <td>36</td>\n",
       "    </tr>\n",
       "  </tbody>\n",
       "</table>\n",
       "</div>"
      ],
      "text/plain": [
       "   essay_id  essay_set                                              essay  \\\n",
       "0         1          1  Dear local newspaper, I think effects computer...   \n",
       "1         2          1  Dear I believe that using computers will benef...   \n",
       "2         3          1  Dear, More and more people use computers, but ...   \n",
       "3         4          1  Dear Local Newspaper, I have found that many e...   \n",
       "4         5          1  Dear I know having computers has a positive ef...   \n",
       "\n",
       "   final_score                                        clean_essay  char_count  \\\n",
       "0            6  Dear local newspaper  I think effects computer...        1441   \n",
       "1            7  Dear I believe using computers benefit us many...        1765   \n",
       "2            5  Dear  More people use computers  everyone agre...        1185   \n",
       "3            8  Dear Local Newspaper  I found many experts say...        2284   \n",
       "4            6  Dear I know computers positive effect people  ...        2023   \n",
       "\n",
       "   word_count  sent_count  avg_word_len  spell_err_count  noun_count  \\\n",
       "0         344          16      4.188953               11          76   \n",
       "1         413          17      4.273608               21          98   \n",
       "2         276          14      4.293478                5          76   \n",
       "3         490          26      4.661224               31         142   \n",
       "4         469          30      4.313433               18         110   \n",
       "\n",
       "   adj_count  verb_count  adv_count  \n",
       "0         75          18         24  \n",
       "1         84          20         19  \n",
       "2         51          20         16  \n",
       "3         96          39         29  \n",
       "4         90          32         36  "
      ]
     },
     "execution_count": 69,
     "metadata": {},
     "output_type": "execute_result"
    }
   ],
   "source": [
    "prep_df = pd.read_csv(\"Processed_data.csv\")\n",
    "prep_df.drop('Unnamed: 0',inplace=True,axis=1)\n",
    "prep_df.head()"
   ]
  },
  {
   "cell_type": "markdown",
   "metadata": {},
   "source": [
    "# CountVectorizer splits the text data into 400 Columns with features ranging from unigrams to Trigrams "
   ]
  },
  {
   "cell_type": "code",
   "execution_count": 70,
   "metadata": {
    "id": "63-bZRihuLTw"
   },
   "outputs": [],
   "source": [
    "\n",
    "vectorizer = CountVectorizer(max_features = 400, ngram_range=(1, 3), stop_words='english')\n",
    "count_vectors = vectorizer.fit_transform(prep_df['clean_essay'])\n",
    "feature_names = vectorizer.get_feature_names_out()\n",
    "X = count_vectors.toarray()\n"
   ]
  },
  {
   "cell_type": "markdown",
   "metadata": {},
   "source": [
    "# Here i collected the top 30 features which I derived from feature importance plots. \n"
   ]
  },
  {
   "cell_type": "code",
   "execution_count": 71,
   "metadata": {
    "id": "hnc7oz3zvKIs"
   },
   "outputs": [],
   "source": [
    "\n",
    "X_full = np.concatenate((prep_df.iloc[:, 5:].values, X), axis=1)\n",
    "y_full = prep_df['final_score'].values\n",
    "selected_columns_indices = [161, 198, 319, 229, 212, 304, 357, 316, 249, 353, 339, 157, 48, 234, 257, 8, 390, 4, 7, 31, 6, 269, 71, 83, 5, 2, 1, 41, 3, 0]\n",
    "X_full = X_full[:, selected_columns_indices]\n",
    "X_train, X_test, y_train, y_test = train_test_split(X_full, y_full, test_size = 0.3)\n"
   ]
  },
  {
   "cell_type": "code",
   "execution_count": 72,
   "metadata": {
    "colab": {
     "base_uri": "https://localhost:8080/"
    },
    "id": "fZKDRoz6zPuS",
    "outputId": "cd234974-f90d-437c-ae8c-1fd459789272"
   },
   "outputs": [
    {
     "data": {
      "text/html": [
       "<style>#sk-container-id-8 {color: black;}#sk-container-id-8 pre{padding: 0;}#sk-container-id-8 div.sk-toggleable {background-color: white;}#sk-container-id-8 label.sk-toggleable__label {cursor: pointer;display: block;width: 100%;margin-bottom: 0;padding: 0.3em;box-sizing: border-box;text-align: center;}#sk-container-id-8 label.sk-toggleable__label-arrow:before {content: \"▸\";float: left;margin-right: 0.25em;color: #696969;}#sk-container-id-8 label.sk-toggleable__label-arrow:hover:before {color: black;}#sk-container-id-8 div.sk-estimator:hover label.sk-toggleable__label-arrow:before {color: black;}#sk-container-id-8 div.sk-toggleable__content {max-height: 0;max-width: 0;overflow: hidden;text-align: left;background-color: #f0f8ff;}#sk-container-id-8 div.sk-toggleable__content pre {margin: 0.2em;color: black;border-radius: 0.25em;background-color: #f0f8ff;}#sk-container-id-8 input.sk-toggleable__control:checked~div.sk-toggleable__content {max-height: 200px;max-width: 100%;overflow: auto;}#sk-container-id-8 input.sk-toggleable__control:checked~label.sk-toggleable__label-arrow:before {content: \"▾\";}#sk-container-id-8 div.sk-estimator input.sk-toggleable__control:checked~label.sk-toggleable__label {background-color: #d4ebff;}#sk-container-id-8 div.sk-label input.sk-toggleable__control:checked~label.sk-toggleable__label {background-color: #d4ebff;}#sk-container-id-8 input.sk-hidden--visually {border: 0;clip: rect(1px 1px 1px 1px);clip: rect(1px, 1px, 1px, 1px);height: 1px;margin: -1px;overflow: hidden;padding: 0;position: absolute;width: 1px;}#sk-container-id-8 div.sk-estimator {font-family: monospace;background-color: #f0f8ff;border: 1px dotted black;border-radius: 0.25em;box-sizing: border-box;margin-bottom: 0.5em;}#sk-container-id-8 div.sk-estimator:hover {background-color: #d4ebff;}#sk-container-id-8 div.sk-parallel-item::after {content: \"\";width: 100%;border-bottom: 1px solid gray;flex-grow: 1;}#sk-container-id-8 div.sk-label:hover label.sk-toggleable__label {background-color: #d4ebff;}#sk-container-id-8 div.sk-serial::before {content: \"\";position: absolute;border-left: 1px solid gray;box-sizing: border-box;top: 0;bottom: 0;left: 50%;z-index: 0;}#sk-container-id-8 div.sk-serial {display: flex;flex-direction: column;align-items: center;background-color: white;padding-right: 0.2em;padding-left: 0.2em;position: relative;}#sk-container-id-8 div.sk-item {position: relative;z-index: 1;}#sk-container-id-8 div.sk-parallel {display: flex;align-items: stretch;justify-content: center;background-color: white;position: relative;}#sk-container-id-8 div.sk-item::before, #sk-container-id-8 div.sk-parallel-item::before {content: \"\";position: absolute;border-left: 1px solid gray;box-sizing: border-box;top: 0;bottom: 0;left: 50%;z-index: -1;}#sk-container-id-8 div.sk-parallel-item {display: flex;flex-direction: column;z-index: 1;position: relative;background-color: white;}#sk-container-id-8 div.sk-parallel-item:first-child::after {align-self: flex-end;width: 50%;}#sk-container-id-8 div.sk-parallel-item:last-child::after {align-self: flex-start;width: 50%;}#sk-container-id-8 div.sk-parallel-item:only-child::after {width: 0;}#sk-container-id-8 div.sk-dashed-wrapped {border: 1px dashed gray;margin: 0 0.4em 0.5em 0.4em;box-sizing: border-box;padding-bottom: 0.4em;background-color: white;}#sk-container-id-8 div.sk-label label {font-family: monospace;font-weight: bold;display: inline-block;line-height: 1.2em;}#sk-container-id-8 div.sk-label-container {text-align: center;}#sk-container-id-8 div.sk-container {/* jupyter's `normalize.less` sets `[hidden] { display: none; }` but bootstrap.min.css set `[hidden] { display: none !important; }` so we also need the `!important` here to be able to override the default hidden behavior on the sphinx rendered scikit-learn.org. See: https://github.com/scikit-learn/scikit-learn/issues/21755 */display: inline-block !important;position: relative;}#sk-container-id-8 div.sk-text-repr-fallback {display: none;}</style><div id=\"sk-container-id-8\" class=\"sk-top-container\"><div class=\"sk-text-repr-fallback\"><pre>RandomForestRegressor(max_depth=150, n_estimators=250, random_state=42)</pre><b>In a Jupyter environment, please rerun this cell to show the HTML representation or trust the notebook. <br />On GitHub, the HTML representation is unable to render, please try loading this page with nbviewer.org.</b></div><div class=\"sk-container\" hidden><div class=\"sk-item\"><div class=\"sk-estimator sk-toggleable\"><input class=\"sk-toggleable__control sk-hidden--visually\" id=\"sk-estimator-id-8\" type=\"checkbox\" checked><label for=\"sk-estimator-id-8\" class=\"sk-toggleable__label sk-toggleable__label-arrow\">RandomForestRegressor</label><div class=\"sk-toggleable__content\"><pre>RandomForestRegressor(max_depth=150, n_estimators=250, random_state=42)</pre></div></div></div></div></div>"
      ],
      "text/plain": [
       "RandomForestRegressor(max_depth=150, n_estimators=250, random_state=42)"
      ]
     },
     "execution_count": 72,
     "metadata": {},
     "output_type": "execute_result"
    }
   ],
   "source": [
    "# ML model used is Random Forest Regressor\n",
    "\n",
    "regressor = RandomForestRegressor(max_depth=150,n_estimators=250,\n",
    "                                  random_state=42)\n",
    "regressor.fit(X_train, y_train)\n",
    "\n",
    "\n",
    "\n"
   ]
  },
  {
   "cell_type": "code",
   "execution_count": 73,
   "metadata": {},
   "outputs": [
    {
     "name": "stdout",
     "output_type": "stream",
     "text": [
      "[2, 5, 0, 9, 3, 8, 4, 11, 13, 7, 14, 1, 6, 10, 19, 16, 12, 23, 22, 21, 17, 15, 18, 20, 24, 25, 26, 27, 28, 29]\n",
      "2     0.005199\n",
      "5     0.006475\n",
      "0     0.006521\n",
      "9     0.006709\n",
      "3     0.006734\n",
      "8     0.006883\n",
      "4     0.006997\n",
      "11    0.007575\n",
      "13    0.007779\n",
      "7     0.008029\n",
      "14    0.008095\n",
      "1     0.008814\n",
      "6     0.010356\n",
      "10    0.011497\n",
      "19    0.013125\n",
      "16    0.014021\n",
      "12    0.015687\n",
      "23    0.016683\n",
      "22    0.018784\n",
      "21    0.022153\n",
      "17    0.024511\n",
      "15    0.025985\n",
      "18    0.027905\n",
      "20    0.030238\n",
      "24    0.039745\n",
      "25    0.041261\n",
      "26    0.046121\n",
      "27    0.049411\n",
      "28    0.082240\n",
      "29    0.424464\n",
      "dtype: float64\n",
      "Mean squared error: 2.32\n",
      "-------\n"
     ]
    },
    {
     "data": {
      "image/png": "[encoded data removed]",
      "text/plain": [
       "<Figure size 432x288 with 1 Axes>"
      ]
     },
     "metadata": {
      "needs_background": "light"
     },
     "output_type": "display_data"
    }
   ],
   "source": [
    "global_importances = pd.Series(regressor.feature_importances_, index=columns_list)\n",
    "global_importances.sort_values(ascending=True, inplace=True)\n",
    "top_30_features = global_importances.tail(30)\n",
    "\n",
    "column_names_list = top_30_features.index.tolist()\n",
    "print(column_names_list)\n",
    "print(top_30_features)\n",
    "top_30_features.plot.barh(color='green')\n",
    "y_pred = regressor.predict(X_test)\n",
    "print(\"Mean squared error: %.2f\" % mean_squared_error(y_test, y_pred))\n",
    "print(\"-------\")"
   ]
  },
  {
   "cell_type": "code",
   "execution_count": null,
   "metadata": {},
   "outputs": [],
   "source": []
  }
 ],
 "metadata": {
  "colab": {
   "provenance": []
  },
  "kernelspec": {
   "display_name": "Python 3 (ipykernel)",
   "language": "python",
   "name": "python3"
  },
  "language_info": {
   "codemirror_mode": {
    "name": "ipython",
    "version": 3
   },
   "file_extension": ".py",
   "mimetype": "text/x-python",
   "name": "python",
   "nbconvert_exporter": "python",
   "pygments_lexer": "ipython3",
   "version": "3.9.5"
  }
 },
 "nbformat": 4,
 "nbformat_minor": 1
}
